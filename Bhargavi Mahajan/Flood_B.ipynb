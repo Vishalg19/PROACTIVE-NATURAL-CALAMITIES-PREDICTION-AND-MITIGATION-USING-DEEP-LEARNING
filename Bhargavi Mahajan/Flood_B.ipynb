{
 "cells": [
  {
   "cell_type": "code",
   "execution_count": 1,
   "id": "80cabcdc",
   "metadata": {},
   "outputs": [],
   "source": [
    "import pandas as pd\n",
    "import torch\n",
    "import torch.nn as nn\n",
    "import torch.optim as optim\n",
    "import networkx as nx\n",
    "import matplotlib.pyplot as plt\n",
    "from sklearn.model_selection import train_test_split\n",
    "from torch_geometric.data import Data, DataLoader\n"
   ]
  },
  {
   "cell_type": "code",
   "execution_count": 2,
   "id": "d25febcf",
   "metadata": {},
   "outputs": [],
   "source": [
    "# Assuming you've downloaded the dataset from Kaggle and saved it as 'indian_flood_dataset.csv'\n",
    "dataset_path = 'IndianFloodInventroy(IFI).csv'\n",
    "df = pd.read_csv(dataset_path)\n",
    "\n",
    "# Preprocess the dataset as needed (handle missing values, encode categorical variables, etc.)\n",
    "# ...\n",
    "\n",
    "# Split the dataset into training and testing sets\n",
    "train_data, test_data = train_test_split(df, test_size=0.2, random_state=42)\n"
   ]
  },
  {
   "cell_type": "code",
   "execution_count": 8,
   "id": "e97d4acb",
   "metadata": {},
   "outputs": [
    {
     "name": "stdout",
     "output_type": "stream",
     "text": [
      "<class 'pandas.core.frame.DataFrame'>\n",
      "RangeIndex: 4738 entries, 0 to 4737\n",
      "Data columns (total 20 columns):\n",
      " #   Column                             Non-Null Count  Dtype  \n",
      "---  ------                             --------------  -----  \n",
      " 0   UEI                                4738 non-null   object \n",
      " 1   Start Date                         4738 non-null   object \n",
      " 2   End Date                           4738 non-null   object \n",
      " 3   Duration(Days)                     4590 non-null   float64\n",
      " 4   Main Cause                         4600 non-null   object \n",
      " 5   Location                           276 non-null    object \n",
      " 6   Districts                          4121 non-null   object \n",
      " 7   State                              4175 non-null   object \n",
      " 8   Latitude                           325 non-null    float64\n",
      " 9   Longitude                          325 non-null    float64\n",
      " 10  Severity                           262 non-null    float64\n",
      " 11  Area Affected                      262 non-null    float64\n",
      " 12  Human fatality                     2716 non-null   object \n",
      " 13  Human injured                      824 non-null    object \n",
      " 14  Human Displaced                    262 non-null    float64\n",
      " 15  Animal Fatality                    305 non-null    object \n",
      " 16  Description of Casualties/injured  2845 non-null   object \n",
      " 17  Extent of damage                   3289 non-null   object \n",
      " 18  Event Source                       4738 non-null   object \n",
      " 19  Event Souce ID                     563 non-null    object \n",
      "dtypes: float64(6), object(14)\n",
      "memory usage: 740.4+ KB\n"
     ]
    }
   ],
   "source": [
    "df.info()"
   ]
  },
  {
   "cell_type": "code",
   "execution_count": 3,
   "id": "6a12f3df",
   "metadata": {},
   "outputs": [
    {
     "name": "stdout",
     "output_type": "stream",
     "text": [
      "Nodes: [1, 2, 3]\n",
      "Edges: [(1, 2), (1, 3), (2, 3)]\n"
     ]
    }
   ],
   "source": [
    "import networkx as nx\n",
    "import pandas as pd\n",
    "\n",
    "def create_graph(data):\n",
    "    # Assuming your dataset has columns like 'node1', 'node2', 'edge_weight'\n",
    "    edges = zip(data['node1'], data['node2'], data['edge_weight'])\n",
    "\n",
    "    graph = nx.Graph()\n",
    "\n",
    "    # Add nodes and weighted edges to the graph\n",
    "    graph.add_weighted_edges_from(edges)\n",
    "\n",
    "    return graph\n",
    "\n",
    "# Example usage:\n",
    "# Assuming you have a DataFrame named 'your_data' with columns 'node1', 'node2', 'edge_weight'\n",
    "your_data = pd.DataFrame({\n",
    "    'node1': [1, 2, 3],\n",
    "    'node2': [2, 3, 1],\n",
    "    'edge_weight': [0.5, 0.8, 0.6]\n",
    "})\n",
    "\n",
    "# Create a graph from the data\n",
    "your_graph = create_graph(your_data)\n",
    "\n",
    "# Print the graph information\n",
    "print(\"Nodes:\", your_graph.nodes)\n",
    "print(\"Edges:\", your_graph.edges)\n"
   ]
  },
  {
   "cell_type": "code",
   "execution_count": 4,
   "id": "3c9d789a",
   "metadata": {},
   "outputs": [
    {
     "data": {
      "image/png": "[encoded data removed]",
      "text/plain": [
       "<Figure size 432x288 with 1 Axes>"
      ]
     },
     "metadata": {},
     "output_type": "display_data"
    }
   ],
   "source": [
    "import networkx as nx\n",
    "import matplotlib.pyplot as plt\n",
    "\n",
    "# Function to create and show the graph\n",
    "def show_graph(graph):\n",
    "    pos = nx.spring_layout(graph)  # Layout algorithm, you can choose other layouts based on your preference\n",
    "    labels = nx.get_edge_attributes(graph, 'weight')\n",
    "\n",
    "    nx.draw(graph, pos, with_labels=True, font_weight='bold', node_size=700, node_color='skyblue', font_size=8)\n",
    "    nx.draw_networkx_edge_labels(graph, pos, edge_labels=labels)\n",
    "\n",
    "    plt.show()\n",
    "\n",
    "# Assuming you have already created a graph (e.g., your_graph)\n",
    "show_graph(your_graph)\n"
   ]
  },
  {
   "cell_type": "code",
   "execution_count": 5,
   "id": "22587208",
   "metadata": {},
   "outputs": [
    {
     "name": "stdout",
     "output_type": "stream",
     "text": [
      "Train set shape - X: (2, 3)\n",
      "Test set shape - X: (1, 3)\n"
     ]
    }
   ],
   "source": [
    "import pandas as pd\n",
    "from sklearn.model_selection import train_test_split\n",
    "\n",
    "# Assuming you have a DataFrame named 'your_data' with columns 'node1', 'node2', 'edge_weight'\n",
    "# Adjust column names based on your actual dataset\n",
    "\n",
    "# Features (X)\n",
    "X = your_data[['node1', 'node2', 'edge_weight']]\n",
    "\n",
    "# Perform train-test split (80% training, 20% testing)\n",
    "X_train, X_test = train_test_split(X, test_size=0.2, random_state=42)\n",
    "\n",
    "# Print the shapes of the resulting sets\n",
    "print(\"Train set shape - X:\", X_train.shape)\n",
    "print(\"Test set shape - X:\", X_test.shape)\n"
   ]
  },
  {
   "cell_type": "code",
   "execution_count": 6,
   "id": "63a8aa2a",
   "metadata": {},
   "outputs": [
    {
     "name": "stdout",
     "output_type": "stream",
     "text": [
      "Mean Squared Error on Test Set: 0.0068636914\n"
     ]
    }
   ],
   "source": [
    "import pandas as pd\n",
    "import torch\n",
    "import torch.nn as nn\n",
    "import torch.optim as optim\n",
    "from torch_geometric.data import Data\n",
    "from torch_geometric.nn import GCNConv\n",
    "from sklearn.metrics import mean_squared_error\n",
    "from sklearn.model_selection import train_test_split\n",
    "\n",
    "# Replace 'your_data' with your actual DataFrame\n",
    "your_data = pd.DataFrame({\n",
    "    'node1': [1, 2, 3],\n",
    "    'node2': [2, 3, 1],\n",
    "    'edge_weight': [0.5, 0.8, 0.6],\n",
    "    'target': [0.2, 0.5, 0.8]  # Replace with your actual target variable\n",
    "})\n",
    "\n",
    "# Separate features (X) and target variable (y)\n",
    "X = your_data[['node1', 'node2', 'edge_weight']]\n",
    "y = your_data['target']\n",
    "\n",
    "# Perform train-test split (80% training, 20% testing)\n",
    "X_train, X_test, y_train, y_test = train_test_split(X, y, test_size=0.2, random_state=42)\n",
    "\n",
    "# Convert the train and test sets to PyTorch Geometric Data\n",
    "train_graph = create_graph(X_train)\n",
    "test_graph = create_graph(X_test)\n",
    "\n",
    "# Combine node indices from both train and test graphs to ensure all nodes are considered\n",
    "all_nodes = list(set(train_graph.nodes) | set(test_graph.nodes))\n",
    "\n",
    "# Create a mapping between original node indices and indices of the identity matrix\n",
    "node_index_mapping = {node: idx for idx, node in enumerate(all_nodes)}\n",
    "\n",
    "# Convert the train and test sets to PyTorch Geometric Data with proper node indices\n",
    "def create_graph_data(graph, node_index_mapping):\n",
    "    edge_index = torch.tensor([\n",
    "        [node_index_mapping[node1], node_index_mapping[node2]]\n",
    "        for node1, node2 in graph.edges\n",
    "    ]).t().contiguous()\n",
    "    x = torch.eye(len(all_nodes))  # Placeholder for node features\n",
    "    y = torch.tensor([0.0] * len(all_nodes), dtype=torch.float32)  # Placeholder for target variable\n",
    "    return Data(x=x, edge_index=edge_index, y=y)\n",
    "\n",
    "train_data = create_graph_data(train_graph, node_index_mapping)\n",
    "test_data = create_graph_data(test_graph, node_index_mapping)\n",
    "\n",
    "# Initialize the GNN model\n",
    "class GNNModel(nn.Module):\n",
    "    def __init__(self, input_size, hidden_size, output_size):\n",
    "        super(GNNModel, self).__init__()\n",
    "        self.conv1 = GCNConv(input_size, hidden_size)\n",
    "        self.conv2 = GCNConv(hidden_size, output_size)\n",
    "\n",
    "    def forward(self, data):\n",
    "        x, edge_index = data.x, data.edge_index\n",
    "        x = torch.relu(self.conv1(x, edge_index))\n",
    "        x = self.conv2(x, edge_index)\n",
    "        return x\n",
    "\n",
    "# Initialize the GNN model\n",
    "model = GNNModel(input_size=len(all_nodes), hidden_size=64, output_size=1)\n",
    "\n",
    "# Define loss function and optimizer\n",
    "criterion = nn.MSELoss()\n",
    "optimizer = optim.Adam(model.parameters(), lr=0.01)\n",
    "\n",
    "# Training loop\n",
    "epochs = 10\n",
    "for epoch in range(epochs):\n",
    "    model.train()\n",
    "    optimizer.zero_grad()\n",
    "    output = model(train_data)\n",
    "    loss = criterion(output.squeeze(), train_data.y)\n",
    "    loss.backward()\n",
    "    optimizer.step()\n",
    "\n",
    "# Evaluate the model on the test set\n",
    "model.eval()\n",
    "with torch.no_grad():\n",
    "    predictions = model(test_data).squeeze().numpy()\n",
    "\n",
    "# Calculate and print Mean Squared Error on the test set\n",
    "mse = mean_squared_error(test_data.y.numpy(), predictions)\n",
    "print(\"Mean Squared Error on Test Set:\", mse)\n"
   ]
  },
  {
   "cell_type": "code",
   "execution_count": 7,
   "id": "c5c1e6d5",
   "metadata": {},
   "outputs": [
    {
     "data": {
      "image/png": "[encoded data removed]",
      "text/plain": [
       "<Figure size 432x288 with 1 Axes>"
      ]
     },
     "metadata": {
      "needs_background": "light"
     },
     "output_type": "display_data"
    },
    {
     "ename": "KeyError",
     "evalue": "2",
     "output_type": "error",
     "traceback": [
      "\u001b[1;31m---------------------------------------------------------------------------\u001b[0m",
      "\u001b[1;31mKeyError\u001b[0m                                  Traceback (most recent call last)",
      "\u001b[1;32m~\\AppData\\Local\\Temp/ipykernel_7236/2795285703.py\u001b[0m in \u001b[0;36m<module>\u001b[1;34m\u001b[0m\n\u001b[0;32m     26\u001b[0m \u001b[1;33m\u001b[0m\u001b[0m\n\u001b[0;32m     27\u001b[0m \u001b[1;31m# Visualize the graph structure with node labels\u001b[0m\u001b[1;33m\u001b[0m\u001b[1;33m\u001b[0m\u001b[0m\n\u001b[1;32m---> 28\u001b[1;33m \u001b[0mvisualize_graph\u001b[0m\u001b[1;33m(\u001b[0m\u001b[0mtest_data\u001b[0m\u001b[1;33m,\u001b[0m \u001b[0mpredictions\u001b[0m\u001b[1;33m)\u001b[0m\u001b[1;33m\u001b[0m\u001b[1;33m\u001b[0m\u001b[0m\n\u001b[0m",
      "\u001b[1;32m~\\AppData\\Local\\Temp/ipykernel_7236/2795285703.py\u001b[0m in \u001b[0;36mvisualize_graph\u001b[1;34m(data, predictions)\u001b[0m\n\u001b[0;32m     20\u001b[0m \u001b[1;33m\u001b[0m\u001b[0m\n\u001b[0;32m     21\u001b[0m     \u001b[0mnode_labels\u001b[0m \u001b[1;33m=\u001b[0m \u001b[1;33m{\u001b[0m\u001b[0mi\u001b[0m\u001b[1;33m:\u001b[0m \u001b[1;34mf\"{i}\\nTrue: {data.y[i]:.2f}\\nPred: {predictions[i]:.2f}\"\u001b[0m \u001b[1;32mfor\u001b[0m \u001b[0mi\u001b[0m \u001b[1;32min\u001b[0m \u001b[0mrange\u001b[0m\u001b[1;33m(\u001b[0m\u001b[0mlen\u001b[0m\u001b[1;33m(\u001b[0m\u001b[0mdata\u001b[0m\u001b[1;33m.\u001b[0m\u001b[0my\u001b[0m\u001b[1;33m)\u001b[0m\u001b[1;33m)\u001b[0m\u001b[1;33m}\u001b[0m\u001b[1;33m\u001b[0m\u001b[1;33m\u001b[0m\u001b[0m\n\u001b[1;32m---> 22\u001b[1;33m     \u001b[0mnx\u001b[0m\u001b[1;33m.\u001b[0m\u001b[0mdraw_networkx_labels\u001b[0m\u001b[1;33m(\u001b[0m\u001b[0mG\u001b[0m\u001b[1;33m,\u001b[0m \u001b[0mpos\u001b[0m\u001b[1;33m,\u001b[0m \u001b[0mlabels\u001b[0m\u001b[1;33m=\u001b[0m\u001b[0mnode_labels\u001b[0m\u001b[1;33m,\u001b[0m \u001b[0mfont_color\u001b[0m\u001b[1;33m=\u001b[0m\u001b[1;34m'black'\u001b[0m\u001b[1;33m)\u001b[0m\u001b[1;33m\u001b[0m\u001b[1;33m\u001b[0m\u001b[0m\n\u001b[0m\u001b[0;32m     23\u001b[0m \u001b[1;33m\u001b[0m\u001b[0m\n\u001b[0;32m     24\u001b[0m     \u001b[0mplt\u001b[0m\u001b[1;33m.\u001b[0m\u001b[0mtitle\u001b[0m\u001b[1;33m(\u001b[0m\u001b[1;34m'Graph Structure with Node Labels'\u001b[0m\u001b[1;33m)\u001b[0m\u001b[1;33m\u001b[0m\u001b[1;33m\u001b[0m\u001b[0m\n",
      "\u001b[1;32m~\\anaconda3\\lib\\site-packages\\networkx\\drawing\\nx_pylab.py\u001b[0m in \u001b[0;36mdraw_networkx_labels\u001b[1;34m(G, pos, labels, font_size, font_color, font_family, font_weight, alpha, bbox, horizontalalignment, verticalalignment, ax, clip_on)\u001b[0m\n\u001b[0;32m    972\u001b[0m     \u001b[0mtext_items\u001b[0m \u001b[1;33m=\u001b[0m \u001b[1;33m{\u001b[0m\u001b[1;33m}\u001b[0m  \u001b[1;31m# there is no text collection so we'll fake one\u001b[0m\u001b[1;33m\u001b[0m\u001b[1;33m\u001b[0m\u001b[0m\n\u001b[0;32m    973\u001b[0m     \u001b[1;32mfor\u001b[0m \u001b[0mn\u001b[0m\u001b[1;33m,\u001b[0m \u001b[0mlabel\u001b[0m \u001b[1;32min\u001b[0m \u001b[0mlabels\u001b[0m\u001b[1;33m.\u001b[0m\u001b[0mitems\u001b[0m\u001b[1;33m(\u001b[0m\u001b[1;33m)\u001b[0m\u001b[1;33m:\u001b[0m\u001b[1;33m\u001b[0m\u001b[1;33m\u001b[0m\u001b[0m\n\u001b[1;32m--> 974\u001b[1;33m         \u001b[1;33m(\u001b[0m\u001b[0mx\u001b[0m\u001b[1;33m,\u001b[0m \u001b[0my\u001b[0m\u001b[1;33m)\u001b[0m \u001b[1;33m=\u001b[0m \u001b[0mpos\u001b[0m\u001b[1;33m[\u001b[0m\u001b[0mn\u001b[0m\u001b[1;33m]\u001b[0m\u001b[1;33m\u001b[0m\u001b[1;33m\u001b[0m\u001b[0m\n\u001b[0m\u001b[0;32m    975\u001b[0m         \u001b[1;32mif\u001b[0m \u001b[1;32mnot\u001b[0m \u001b[0misinstance\u001b[0m\u001b[1;33m(\u001b[0m\u001b[0mlabel\u001b[0m\u001b[1;33m,\u001b[0m \u001b[0mstr\u001b[0m\u001b[1;33m)\u001b[0m\u001b[1;33m:\u001b[0m\u001b[1;33m\u001b[0m\u001b[1;33m\u001b[0m\u001b[0m\n\u001b[0;32m    976\u001b[0m             \u001b[0mlabel\u001b[0m \u001b[1;33m=\u001b[0m \u001b[0mstr\u001b[0m\u001b[1;33m(\u001b[0m\u001b[0mlabel\u001b[0m\u001b[1;33m)\u001b[0m  \u001b[1;31m# this makes \"1\" and 1 labeled the same\u001b[0m\u001b[1;33m\u001b[0m\u001b[1;33m\u001b[0m\u001b[0m\n",
      "\u001b[1;31mKeyError\u001b[0m: 2"
     ]
    },
    {
     "data": {
      "image/png": "[encoded data removed]",
      "text/plain": [
       "<Figure size 432x288 with 1 Axes>"
      ]
     },
     "metadata": {},
     "output_type": "display_data"
    }
   ],
   "source": [
    "import matplotlib.pyplot as plt\n",
    "import networkx as nx\n",
    "\n",
    "# Visualize the true values and predicted values\n",
    "plt.scatter(test_data.y.numpy(), predictions, color='blue')\n",
    "plt.plot([min(y_test), max(y_test)], [min(y_test), max(y_test)], linestyle='--', color='red', linewidth=2)\n",
    "plt.xlabel('True Values')\n",
    "plt.ylabel('Predicted Values')\n",
    "plt.title('True vs Predicted Values')\n",
    "plt.show()\n",
    "\n",
    "# Visualize the graph structure\n",
    "def visualize_graph(data, predictions):\n",
    "    edge_index = data.edge_index.numpy()\n",
    "    G = nx.Graph()\n",
    "    G.add_edges_from(edge_index.T)\n",
    "    \n",
    "    pos = nx.spring_layout(G)\n",
    "    nx.draw(G, pos, with_labels=True, font_weight='bold', node_color='skyblue', edge_color='gray')\n",
    "    \n",
    "    node_labels = {i: f\"{i}\\nTrue: {data.y[i]:.2f}\\nPred: {predictions[i]:.2f}\" for i in range(len(data.y))}\n",
    "    nx.draw_networkx_labels(G, pos, labels=node_labels, font_color='black')\n",
    "\n",
    "    plt.title('Graph Structure with Node Labels')\n",
    "    plt.show()\n",
    "\n",
    "# Visualize the graph structure with node labels\n",
    "visualize_graph(test_data, predictions)\n"
   ]
  },
  {
   "cell_type": "code",
   "execution_count": null,
   "id": "07be6f7c",
   "metadata": {},
   "outputs": [],
   "source": []
  },
  {
   "cell_type": "code",
   "execution_count": null,
   "id": "e4af0112",
   "metadata": {},
   "outputs": [],
   "source": []
  }
 ],
 "metadata": {
  "kernelspec": {
   "display_name": "Python 3 (ipykernel)",
   "language": "python",
   "name": "python3"
  },
  "language_info": {
   "codemirror_mode": {
    "name": "ipython",
    "version": 3
   },
   "file_extension": ".py",
   "mimetype": "text/x-python",
   "name": "python",
   "nbconvert_exporter": "python",
   "pygments_lexer": "ipython3",
   "version": "3.9.7"
  }
 },
 "nbformat": 4,
 "nbformat_minor": 5
}
